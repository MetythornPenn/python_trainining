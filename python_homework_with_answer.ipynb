{
 "cells": [
  {
   "cell_type": "markdown",
   "metadata": {},
   "source": [
    "## 1. Write a Python program to print the following string in a specific format (see the output).\n",
    "\n",
    "Sample String : \n",
    "\n",
    "\"Twinkle, twinkle, little star, How I wonder what you are! Up above the world so high, Like a diamond in the sky. Twinkle, twinkle, little star, How I wonder what you are\"\n",
    "\n",
    "Output :\n",
    "\n",
    "\n",
    "\tTwinkle, twinkle, little star,\n",
    "\n",
    "\t\tHow I wonder what you are! \n",
    "\n",
    "\t\t\tUp above the world so high,   \n",
    "\n",
    "\t\t\tLike a diamond in the sky. \n",
    "\n",
    "\tTwinkle, twinkle, little star, \n",
    "\n",
    "\t\tHow I wonder what you are"
   ]
  },
  {
   "cell_type": "code",
   "execution_count": 1,
   "metadata": {},
   "outputs": [],
   "source": [
    "# code here\n"
   ]
  },
  {
   "cell_type": "markdown",
   "metadata": {},
   "source": [
    "#### Answer"
   ]
  },
  {
   "cell_type": "code",
   "execution_count": 1,
   "metadata": {},
   "outputs": [
    {
     "name": "stdout",
     "output_type": "stream",
     "text": [
      "Twinkle, twinkle, little star, \n",
      "\tHow I wonder what you are! \n",
      "\t\tUp above the world so high, \n",
      "\t\tLike a diamond in the sky. \n",
      "Twinkle, twinkle, little star, \n",
      "\tHow I wonder what you are!\n"
     ]
    }
   ],
   "source": [
    "print(\"Twinkle, twinkle, little star, \\n\\tHow I wonder what you are! \\n\\t\\tUp above the world so high, \\n\\t\\tLike a diamond in the sky. \\nTwinkle, twinkle, little star, \\n\\tHow I wonder what you are!\")"
   ]
  },
  {
   "cell_type": "markdown",
   "metadata": {},
   "source": [
    "## 2. Write a Python program to find out what version of Python you are using."
   ]
  },
  {
   "cell_type": "code",
   "execution_count": 2,
   "metadata": {},
   "outputs": [],
   "source": [
    "# code here "
   ]
  },
  {
   "cell_type": "markdown",
   "metadata": {},
   "source": [
    "#### Answer"
   ]
  },
  {
   "cell_type": "code",
   "execution_count": 5,
   "metadata": {},
   "outputs": [
    {
     "name": "stdout",
     "output_type": "stream",
     "text": [
      "Python version\n",
      "3.11.7 | packaged by conda-forge | (main, Dec 23 2023, 14:38:07) [Clang 16.0.6 ]\n",
      "Version info.\n",
      "sys.version_info(major=3, minor=11, micro=7, releaselevel='final', serial=0)\n"
     ]
    }
   ],
   "source": [
    "import sys  # Import the sys module to access system-specific parameters and functions\n",
    "\n",
    "# Print the Python version to the console\n",
    "print(\"Python version\")\n",
    "\n",
    "# Use the sys.version attribute to get the Python version and print it\n",
    "print(sys.version)\n",
    "\n",
    "# Print information about the Python version\n",
    "print(\"Version info.\")\n",
    "\n",
    "# Use the sys.version_info attribute to get detailed version information and print it\n",
    "print(sys.version_info)\n"
   ]
  },
  {
   "cell_type": "markdown",
   "metadata": {},
   "source": [
    "## 3. Write a Python program to display the current date and time.\n",
    "\n",
    "Sample Output :\n",
    "\n",
    "Current date and time :\n",
    "\n",
    "2014-07-05 14:34:14"
   ]
  },
  {
   "cell_type": "code",
   "execution_count": 3,
   "metadata": {},
   "outputs": [],
   "source": [
    "# code here "
   ]
  },
  {
   "cell_type": "markdown",
   "metadata": {},
   "source": [
    "#### Answer"
   ]
  },
  {
   "cell_type": "code",
   "execution_count": 6,
   "metadata": {},
   "outputs": [
    {
     "name": "stdout",
     "output_type": "stream",
     "text": [
      "Current date and time : \n",
      "2024-01-16 13:05:42\n"
     ]
    }
   ],
   "source": [
    "# Import the 'datetime' module to work with date and time\n",
    "import datetime\n",
    "\n",
    "# Get the current date and time\n",
    "now = datetime.datetime.now()\n",
    "\n",
    "# Create a datetime object representing the current date and time\n",
    "\n",
    "# Display a message indicating what is being printed\n",
    "print(\"Current date and time : \")\n",
    "\n",
    "# Print the current date and time in a specific format\n",
    "print(now.strftime(\"%Y-%m-%d %H:%M:%S\"))\n",
    "\n",
    "# Use the 'strftime' method to format the datetime object as a string with the desired format\n"
   ]
  },
  {
   "cell_type": "markdown",
   "metadata": {},
   "source": [
    "## 4. Write a Python program that calculates the area of a circle based on the radius entered by the user.\n",
    "\n",
    "Sample Output :\n",
    "\n",
    "r = 1.1\n",
    "\n",
    "Area = 3.8013271108436504"
   ]
  },
  {
   "cell_type": "code",
   "execution_count": 4,
   "metadata": {},
   "outputs": [],
   "source": [
    "# code here"
   ]
  },
  {
   "cell_type": "markdown",
   "metadata": {},
   "source": [
    "#### Answer"
   ]
  },
  {
   "cell_type": "code",
   "execution_count": 5,
   "metadata": {},
   "outputs": [
    {
     "name": "stdout",
     "output_type": "stream",
     "text": [
      "The area of the circle with radius 22.0 is: 1520.53084433746\n"
     ]
    }
   ],
   "source": [
    "# Import the 'pi' constant from the 'math' module to calculate the area of a circle\n",
    "from math import pi\n",
    "\n",
    "# Prompt the user to input the radius of the circle\n",
    "r = float(input(\"Input the radius of the circle : \"))\n",
    "\n",
    "# Calculate the area of the circle using the formula: area = π * r^2\n",
    "area = pi * r ** 2\n",
    "\n",
    "# Display the result, including the radius and calculated area\n",
    "print(\"The area of the circle with radius \" + str(r) + \" is: \" + str(area))\n"
   ]
  },
  {
   "cell_type": "markdown",
   "metadata": {},
   "source": [
    "## 5. Write a Python program that accepts the user's first and last name and prints them in reverse order with a space between them."
   ]
  },
  {
   "cell_type": "code",
   "execution_count": null,
   "metadata": {},
   "outputs": [],
   "source": []
  },
  {
   "cell_type": "markdown",
   "metadata": {},
   "source": [
    "#### Answer"
   ]
  },
  {
   "cell_type": "code",
   "execution_count": 6,
   "metadata": {},
   "outputs": [
    {
     "name": "stdout",
     "output_type": "stream",
     "text": [
      "Hello  penn metythorn\n"
     ]
    }
   ],
   "source": [
    "# Prompt the user to input their first name and store it in the 'fname' variable\n",
    "fname = input(\"Input your First Name : \")\n",
    "\n",
    "# Prompt the user to input their last name and store it in the 'lname' variable\n",
    "lname = input(\"Input your Last Name : \")\n",
    "\n",
    "# Display a greeting message with the last name followed by the first name\n",
    "print(\"Hello  \" + lname + \" \" + fname)\n"
   ]
  },
  {
   "cell_type": "markdown",
   "metadata": {},
   "source": [
    "## 6. Write a Python program that accepts a sequence of comma-separated numbers from the user and generates a list and a tuple of those numbers.\n",
    "\n",
    "Sample data : 3, 5, 7, 23\n",
    "\n",
    "Output :\n",
    "\n",
    "List : ['3', ' 5', ' 7', ' 23']\n"
   ]
  },
  {
   "cell_type": "code",
   "execution_count": null,
   "metadata": {},
   "outputs": [],
   "source": [
    "# code here\n",
    "\n"
   ]
  },
  {
   "cell_type": "markdown",
   "metadata": {},
   "source": [
    "#### Answer"
   ]
  },
  {
   "cell_type": "code",
   "execution_count": 11,
   "metadata": {},
   "outputs": [
    {
     "name": "stdout",
     "output_type": "stream",
     "text": [
      "List :  ['2', ' 3', ' 4', ' 5']\n"
     ]
    }
   ],
   "source": [
    "# Prompt the user to input a sequence of comma-separated numbers and store it in the 'values' variable\n",
    "values = input(\"Input some comma-separated numbers: \")\n",
    "\n",
    "# Split the 'values' string into a list using commas as separators and store it in the 'list' variable\n",
    "list = values.split(\",\")\n",
    "\n",
    "\n",
    "# Print the list\n",
    "print('List : ', list)\n",
    "\n"
   ]
  },
  {
   "cell_type": "markdown",
   "metadata": {},
   "source": [
    "## 7. Write a Python program that accepts a filename from the user and prints the extension of the file.\n",
    "\n",
    "Sample filename : abc.java\n",
    "\n",
    "Output : java"
   ]
  },
  {
   "cell_type": "code",
   "execution_count": 12,
   "metadata": {},
   "outputs": [],
   "source": [
    "# code here"
   ]
  },
  {
   "cell_type": "markdown",
   "metadata": {},
   "source": [
    "#### Answer"
   ]
  },
  {
   "cell_type": "code",
   "execution_count": 13,
   "metadata": {},
   "outputs": [
    {
     "name": "stdout",
     "output_type": "stream",
     "text": [
      "The extension of the file is : 'jpg'\n"
     ]
    }
   ],
   "source": [
    "# Prompt the user to input a filename and store it in the 'filename' variable\n",
    "filename = input(\"Input the Filename: \")\n",
    "\n",
    "# Split the 'filename' string into a list using the period (.) as a separator and store it in the 'f_extns' variable\n",
    "f_extns = filename.split(\".\")\n",
    "\n",
    "# Print the extension of the file, which is the last element in the 'f_extns' list\n",
    "print(\"The extension of the file is : \" + repr(f_extns[-1]))\n"
   ]
  },
  {
   "cell_type": "markdown",
   "metadata": {},
   "source": [
    "## 8. Write a Python program to display the first and last colors from the following list.\n",
    "\n",
    "color_list = [\"Red\",\"Green\",\"White\" ,\"Black\"]"
   ]
  },
  {
   "cell_type": "code",
   "execution_count": 14,
   "metadata": {},
   "outputs": [],
   "source": [
    "# code here"
   ]
  },
  {
   "cell_type": "markdown",
   "metadata": {},
   "source": [
    "#### Answer"
   ]
  },
  {
   "cell_type": "code",
   "execution_count": 15,
   "metadata": {},
   "outputs": [
    {
     "name": "stdout",
     "output_type": "stream",
     "text": [
      "Red Black\n"
     ]
    }
   ],
   "source": [
    "# Create a list called 'color_list' containing color names\n",
    "color_list = [\"Red\", \"Green\", \"White\", \"Black\"]\n",
    "# Print the first and last elements of the 'color_list' using string formatting\n",
    "# The '%s' placeholders are filled with the values of 'color_list[0]' (Red) and 'color_list[-1]' (Black)\n",
    "print(\"%s %s\" % (color_list[0], color_list[-1]))\n"
   ]
  },
  {
   "cell_type": "markdown",
   "metadata": {},
   "source": [
    "## 9. Write a Python program to display the examination schedule. (extract the date from exam_st_date).\n",
    "\n",
    "exam_st_date = (11, 12, 2014)\n",
    "\n",
    "Sample Output : The examination will start from : 11 / 12 / 2014"
   ]
  },
  {
   "cell_type": "code",
   "execution_count": 21,
   "metadata": {},
   "outputs": [],
   "source": [
    "# code here"
   ]
  },
  {
   "cell_type": "markdown",
   "metadata": {},
   "source": [
    "#### Answer"
   ]
  },
  {
   "cell_type": "code",
   "execution_count": 16,
   "metadata": {},
   "outputs": [
    {
     "name": "stdout",
     "output_type": "stream",
     "text": [
      "The examination will start from : 11 / 12 / 2014\n"
     ]
    }
   ],
   "source": [
    "# Define a tuple called 'exam_st_date' containing the exam start date in the format (day, month, year)\n",
    "exam_st_date = (11, 12, 2014)\n",
    "\n",
    "# Print the exam start date using string formatting\n",
    "# The '%i' placeholders are filled with the values from the 'exam_st_date' tuple\n",
    "print(\"The examination will start from : %i / %i / %i\" % exam_st_date)\n"
   ]
  },
  {
   "cell_type": "markdown",
   "metadata": {},
   "source": [
    "## 10. Write a Python program that accepts an integer (n) and computes the value of n+nn+nnn.\n",
    "\n",
    "Sample value of n is 5\n",
    "\n",
    "Expected Result : 615"
   ]
  },
  {
   "cell_type": "code",
   "execution_count": 19,
   "metadata": {},
   "outputs": [],
   "source": [
    "# code here"
   ]
  },
  {
   "cell_type": "markdown",
   "metadata": {},
   "source": [
    "#### Answer"
   ]
  },
  {
   "cell_type": "code",
   "execution_count": 21,
   "metadata": {},
   "outputs": [
    {
     "name": "stdout",
     "output_type": "stream",
     "text": [
      "102030\n"
     ]
    }
   ],
   "source": [
    "# Prompt the user to input an integer and store it in the variable 'a'\n",
    "a = int(input(\"Input an integer: \"))\n",
    "\n",
    "# Create new integers 'n1', 'n2', and 'n3' by concatenating 'a' with itself one, two, and three times, respectively\n",
    "n1 = int(\"%s\" % a)          # Convert 'a' to an integer\n",
    "n2 = int(\"%s%s\" % (a, a))   # Concatenate 'a' with itself and convert to an integer\n",
    "n3 = int(\"%s%s%s\" % (a, a, a))  # Concatenate 'a' with itself twice and convert to an integer\n",
    "\n",
    "# Calculate the sum of 'n1', 'n2', and 'n3' and print the result\n",
    "print(n1 + n2 + n3)\n"
   ]
  },
  {
   "cell_type": "markdown",
   "metadata": {},
   "source": [
    "## 11.Write a Python program to calculate the number of days between two dates.\n",
    "\n",
    "Sample dates : (2014, 7, 2), (2014, 7, 11)\n",
    "\n",
    "Expected output : 9 days"
   ]
  },
  {
   "cell_type": "code",
   "execution_count": 23,
   "metadata": {},
   "outputs": [],
   "source": [
    "# code here"
   ]
  },
  {
   "cell_type": "markdown",
   "metadata": {},
   "source": [
    "#### Answer"
   ]
  },
  {
   "cell_type": "code",
   "execution_count": 22,
   "metadata": {},
   "outputs": [
    {
     "name": "stdout",
     "output_type": "stream",
     "text": [
      "9\n"
     ]
    }
   ],
   "source": [
    "# Import the 'date' class from the 'datetime' module\n",
    "from datetime import date\n",
    "\n",
    "# Define a start date as July 2, 2014\n",
    "f_date = date(2014, 7, 2)\n",
    "\n",
    "# Define an end date as July 11, 2014\n",
    "l_date = date(2014, 7, 11)\n",
    "\n",
    "# Calculate the difference between the end date and start date\n",
    "delta = l_date - f_date\n",
    "\n",
    "# Print the number of days in the time difference\n",
    "print(delta.days)\n"
   ]
  },
  {
   "cell_type": "markdown",
   "metadata": {},
   "source": [
    "## 12. Write a Python program to calculate the difference between a given number and 17. If the number is greater than 17, return twice the absolute difference."
   ]
  },
  {
   "cell_type": "code",
   "execution_count": 24,
   "metadata": {},
   "outputs": [],
   "source": [
    "# code here"
   ]
  },
  {
   "cell_type": "markdown",
   "metadata": {},
   "source": [
    "#### Answer"
   ]
  },
  {
   "cell_type": "code",
   "execution_count": null,
   "metadata": {},
   "outputs": [],
   "source": [
    "# Define a function named \"difference\" that takes an integer parameter \"n\"\n",
    "def difference(n):\n",
    "    # Check if n is less than or equal to 17\n",
    "    if n <= 17:\n",
    "        # If n is less than or equal to 17, return the absolute difference between 17 and n\n",
    "        return 17 - n\n",
    "    else:\n",
    "        # If n is greater than 17, return the absolute difference between n and 17 multiplied by 2\n",
    "        return (n - 17) * 2\n",
    "\n",
    "# Call the \"difference\" function with the argument 22 and print the result\n",
    "print(difference(22))\n",
    "\n",
    "# Call the \"difference\" function with the argument 14 and print the result\n",
    "print(difference(14))\n"
   ]
  },
  {
   "cell_type": "markdown",
   "metadata": {},
   "source": [
    "## 13. Write a Python program to calculate the sum of three given numbers. If the values are equal, return three times their sum."
   ]
  },
  {
   "cell_type": "code",
   "execution_count": null,
   "metadata": {},
   "outputs": [],
   "source": []
  },
  {
   "cell_type": "markdown",
   "metadata": {},
   "source": [
    "#### Answer"
   ]
  },
  {
   "cell_type": "code",
   "execution_count": 25,
   "metadata": {},
   "outputs": [
    {
     "name": "stdout",
     "output_type": "stream",
     "text": [
      "6\n",
      "27\n"
     ]
    }
   ],
   "source": [
    "# Define a function named \"sum_thrice\" that takes three integer parameters: x, y, and z\n",
    "def sum_thrice(x, y, z):\n",
    "    # Calculate the sum of x, y, and z\n",
    "    sum = x + y + z\n",
    "\n",
    "    # Check if x, y, and z are all equal (all three numbers are the same)\n",
    "    if x == y == z:\n",
    "        # If they are equal, triple the sum\n",
    "        sum = sum * 3\n",
    "\n",
    "    # Return the final sum\n",
    "    return sum\n",
    "\n",
    "# Call the \"sum_thrice\" function with the arguments (1, 2, 3) and print the result\n",
    "print(sum_thrice(1, 2, 3))\n",
    "\n",
    "# Call the \"sum_thrice\" function with the arguments (3, 3, 3) and print the result\n",
    "print(sum_thrice(3, 3, 3))\n"
   ]
  },
  {
   "cell_type": "markdown",
   "metadata": {},
   "source": [
    "## 14. Write a Python program that determines whether a given number (accepted from the user) is even or odd, and prints an appropriate message to the user."
   ]
  },
  {
   "cell_type": "code",
   "execution_count": 26,
   "metadata": {},
   "outputs": [],
   "source": [
    "# Code here"
   ]
  },
  {
   "cell_type": "markdown",
   "metadata": {},
   "source": [
    "#### Answer"
   ]
  },
  {
   "cell_type": "code",
   "execution_count": 27,
   "metadata": {},
   "outputs": [
    {
     "name": "stdout",
     "output_type": "stream",
     "text": [
      "This is an odd number.\n"
     ]
    }
   ],
   "source": [
    "# Prompt the user to enter a number and convert the input to an integer\n",
    "num = int(input(\"Enter a number: \"))\n",
    "\n",
    "# Calculate the remainder when the number is divided by 2\n",
    "mod = num % 2\n",
    "\n",
    "# Check if the remainder is greater than 0, indicating an odd number\n",
    "if mod > 0:\n",
    "    # Print a message indicating that the number is odd\n",
    "    print(\"This is an odd number.\")\n",
    "else:\n",
    "    # Print a message indicating that the number is even\n",
    "    print(\"This is an even number.\")\n"
   ]
  },
  {
   "cell_type": "markdown",
   "metadata": {},
   "source": [
    "## 15. Write a Python program to test whether a passed letter is a vowel or not.\n"
   ]
  },
  {
   "cell_type": "code",
   "execution_count": 29,
   "metadata": {},
   "outputs": [],
   "source": [
    "# code here"
   ]
  },
  {
   "cell_type": "markdown",
   "metadata": {},
   "source": [
    "#### Answer\n"
   ]
  },
  {
   "cell_type": "code",
   "execution_count": 28,
   "metadata": {},
   "outputs": [
    {
     "name": "stdout",
     "output_type": "stream",
     "text": [
      "False\n",
      "True\n"
     ]
    }
   ],
   "source": [
    "# Define a function called is_vowel that takes one parameter: char (a character).\n",
    "def is_vowel(char):\n",
    "    # Define a string called all_vowels containing all lowercase vowel characters.\n",
    "    all_vowels = 'aeiou'\n",
    "\n",
    "    # Check if the input character (char) is present in the all_vowels string.\n",
    "    return char in all_vowels\n",
    "\n",
    "# Call the is_vowel function with two different characters and print the results.\n",
    "print(is_vowel('c'))  # Output: False (character 'c' is not a vowel)\n",
    "print(is_vowel('e'))  # Output: True (character 'e' is a vowel)"
   ]
  },
  {
   "cell_type": "markdown",
   "metadata": {},
   "source": [
    "## 16. Write a Python program to calculate the sum of three given numbers. If the values are equal, return three times their sum."
   ]
  },
  {
   "cell_type": "code",
   "execution_count": 20,
   "metadata": {},
   "outputs": [],
   "source": [
    "# code here"
   ]
  },
  {
   "cell_type": "markdown",
   "metadata": {},
   "source": [
    "#### Answer"
   ]
  },
  {
   "cell_type": "code",
   "execution_count": 1,
   "metadata": {},
   "outputs": [
    {
     "name": "stdout",
     "output_type": "stream",
     "text": [
      "6\n",
      "27\n"
     ]
    }
   ],
   "source": [
    "# Define a function named \"sum_thrice\" that takes three integer parameters: x, y, and z\n",
    "def sum_thrice(x, y, z):\n",
    "    # Calculate the sum of x, y, and z\n",
    "    sum = x + y + z\n",
    "\n",
    "    # Check if x, y, and z are all equal (all three numbers are the same)\n",
    "    if x == y == z:\n",
    "        # If they are equal, triple the sum\n",
    "        sum = sum * 3\n",
    "\n",
    "    # Return the final sum\n",
    "    return sum\n",
    "\n",
    "# Call the \"sum_thrice\" function with the arguments (1, 2, 3) and print the result\n",
    "print(sum_thrice(1, 2, 3))\n",
    "\n",
    "# Call the \"sum_thrice\" function with the arguments (3, 3, 3) and print the result\n",
    "print(sum_thrice(3, 3, 3))\n"
   ]
  },
  {
   "cell_type": "markdown",
   "metadata": {},
   "source": [
    "## 17. Write a Python program to print all even numbers from a given list of numbers in the same order and stop printing any after 237 in the sequence.\n",
    "\n",
    "Sample numbers list :\n",
    "\n",
    "numbers = [    \n",
    "\n",
    "    386, 462, 47, 418, 907, 344, 236, 375, 823, 566, 597, 978, 328, 615, 953, 345, \n",
    "\n",
    "    399, 162, 758, 219, 918, 237, 412, 566, 826, 248, 866, 950, 626, 949, 687, 217, \n",
    "\n",
    "    815, 67, 104, 58, 512, 24, 892, 894, 767, 553, 81, 379, 843, 831, 445, 742, 717, \n",
    "    \n",
    "    958,743, 527\n",
    "\n",
    "    ]"
   ]
  },
  {
   "cell_type": "code",
   "execution_count": null,
   "metadata": {},
   "outputs": [],
   "source": []
  },
  {
   "cell_type": "markdown",
   "metadata": {},
   "source": [
    "#### Answer"
   ]
  },
  {
   "cell_type": "code",
   "execution_count": 22,
   "metadata": {},
   "outputs": [
    {
     "name": "stdout",
     "output_type": "stream",
     "text": [
      "386\n",
      "462\n",
      "418\n",
      "344\n",
      "236\n",
      "566\n",
      "978\n",
      "328\n",
      "162\n",
      "758\n",
      "918\n",
      "237\n"
     ]
    }
   ],
   "source": [
    "# Define a list of numbers.\n",
    "numbers = [    \n",
    "    386, 462, 47, 418, 907, 344, 236, 375, 823, 566, 597, 978, 328, 615, 953, 345, \n",
    "    399, 162, 758, 219, 918, 237, 412, 566, 826, 248, 866, 950, 626, 949, 687, 217, \n",
    "    815, 67, 104, 58, 512, 24, 892, 894, 767, 553, 81, 379, 843, 831, 445, 742, 717, \n",
    "    958,743, 527\n",
    "]\n",
    "\n",
    "# Iterate through the numbers in the list.\n",
    "for x in numbers:\n",
    "    if x == 237:\n",
    "        print(x)  # Print the number if it's 237.\n",
    "        break  # Exit the loop if 237 is found.\n",
    "    elif x % 2 == 0:\n",
    "        print(x)  # Print the number if it's even.\n",
    "\n"
   ]
  },
  {
   "cell_type": "markdown",
   "metadata": {},
   "source": [
    "## 18. Write a Python program that prints out all colors from color_list_1 that are not present in color_list_2.\n",
    "\n",
    "Test Data :\n",
    "\n",
    "color_list_1 = set([\"White\", \"Black\", \"Red\"])\n",
    "\n",
    "color_list_2 = set([\"Red\", \"Green\"])\n",
    "\n",
    "Expected Output :\n",
    "\n",
    "{'Black', 'White'}"
   ]
  },
  {
   "cell_type": "code",
   "execution_count": 23,
   "metadata": {},
   "outputs": [],
   "source": [
    "# code here"
   ]
  },
  {
   "cell_type": "markdown",
   "metadata": {},
   "source": [
    "#### Answer"
   ]
  },
  {
   "cell_type": "code",
   "execution_count": 68,
   "metadata": {},
   "outputs": [
    {
     "name": "stdout",
     "output_type": "stream",
     "text": [
      "Original set elements:\n",
      "{'Red', 'White', 'Black'}\n",
      "{'Red', 'Green'}\n",
      "\n",
      "Difference of color_list_1 and color_list_2:\n",
      "{'White', 'Black'}\n",
      "\n",
      "Difference of color_list_2 and color_list_1:\n",
      "{'Green'}\n"
     ]
    }
   ],
   "source": [
    "# Create two sets, color_list_1 and color_list_2.\n",
    "color_list_1 = set([\"White\", \"Black\", \"Red\"])\n",
    "color_list_2 = set([\"Red\", \"Green\"])\n",
    "\n",
    "# Print the original elements of the sets.\n",
    "print(\"Original set elements:\")\n",
    "print(color_list_1)\n",
    "print(color_list_2)\n",
    "\n",
    "# Calculate and print the difference of color_list_1 and color_list_2.\n",
    "print(\"\\nDifference of color_list_1 and color_list_2:\")\n",
    "print(color_list_1.difference(color_list_2))\n",
    "\n",
    "# Calculate and print the difference of color_list_2 and color_list_1.\n",
    "print(\"\\nDifference of color_list_2 and color_list_1:\")\n",
    "print(color_list_2.difference(color_list_1))\n"
   ]
  },
  {
   "cell_type": "markdown",
   "metadata": {},
   "source": [
    "## 19. Write a Python program that will accept the base and height of a triangle and compute its area."
   ]
  },
  {
   "cell_type": "code",
   "execution_count": 24,
   "metadata": {},
   "outputs": [],
   "source": [
    "# code here"
   ]
  },
  {
   "cell_type": "markdown",
   "metadata": {},
   "source": [
    "#### Answer"
   ]
  },
  {
   "cell_type": "code",
   "execution_count": 69,
   "metadata": {},
   "outputs": [
    {
     "name": "stdout",
     "output_type": "stream",
     "text": [
      "area =  363.0\n"
     ]
    }
   ],
   "source": [
    "# Prompt the user to input the base and height of a triangle as integers.\n",
    "b = int(input(\"Input the base : \"))\n",
    "h = int(input(\"Input the height : \"))\n",
    "\n",
    "# Calculate the area of the triangle using the formula: (base * height) / 2.\n",
    "area = b * h / 2\n",
    "\n",
    "# Print the calculated area of the triangle.\n",
    "print(\"area = \", area)\n"
   ]
  },
  {
   "cell_type": "markdown",
   "metadata": {},
   "source": [
    "## 20. Write a Python program to sum three given integers. However, if two values are equal, the sum will be zero."
   ]
  },
  {
   "cell_type": "code",
   "execution_count": 25,
   "metadata": {},
   "outputs": [],
   "source": [
    "# code here"
   ]
  },
  {
   "cell_type": "markdown",
   "metadata": {},
   "source": [
    "#### Answer"
   ]
  },
  {
   "cell_type": "code",
   "execution_count": 1,
   "metadata": {},
   "outputs": [
    {
     "name": "stdout",
     "output_type": "stream",
     "text": [
      "0\n",
      "0\n",
      "0\n",
      "6\n"
     ]
    }
   ],
   "source": [
    "# Define a function 'sum_three' that takes three integer inputs: x, y, and z.\n",
    "def sum_three(x, y, z):\n",
    "    # Check if any of the two input values are equal. If so, set 'sum' to 0.\n",
    "    if x == y or y == z or x == z:\n",
    "        sum = 0\n",
    "    else:\n",
    "        # If all three input values are distinct, calculate the sum of x, y, and z.\n",
    "        sum = x + y + z\n",
    "    # Return the calculated sum.\n",
    "    return sum\n",
    "\n",
    "# Test the 'sum_three' function with different sets of input values and print the results.\n",
    "print(sum_three(2, 1, 2))\n",
    "print(sum_three(3, 2, 2))\n",
    "print(sum_three(2, 2, 2))\n",
    "print(sum_three(1, 2, 3))\n"
   ]
  },
  {
   "cell_type": "markdown",
   "metadata": {},
   "source": [
    "## 21.Write a Python program to sum two given integers. However, if the sum is between 15 and 20 it will return 20."
   ]
  },
  {
   "cell_type": "code",
   "execution_count": 70,
   "metadata": {},
   "outputs": [],
   "source": [
    "# code here"
   ]
  },
  {
   "cell_type": "markdown",
   "metadata": {},
   "source": [
    "#### Answer"
   ]
  },
  {
   "cell_type": "code",
   "execution_count": 26,
   "metadata": {},
   "outputs": [
    {
     "name": "stdout",
     "output_type": "stream",
     "text": [
      "20\n",
      "12\n",
      "22\n"
     ]
    }
   ],
   "source": [
    "# Define a function 'sum' that takes two integer inputs: x and y.\n",
    "def sum(x, y):\n",
    "    # Calculate the sum of x and y and store it in the 'sum' variable.\n",
    "    sum = x + y\n",
    "    # Check if the calculated sum is within the range [15, 20) (inclusive on 15, exclusive on 20).\n",
    "    if sum in range(15, 20):\n",
    "        # If the sum is within the range, return 20.\n",
    "        return 20\n",
    "    else:\n",
    "        # If the sum is outside the range, return the calculated sum.\n",
    "        return sum\n",
    "\n",
    "# Test the 'sum' function with different sets of input values and print the results.\n",
    "print(sum(10, 6))\n",
    "print(sum(10, 2))\n",
    "print(sum(10, 12))\n"
   ]
  },
  {
   "cell_type": "markdown",
   "metadata": {},
   "source": [
    "## 22. Write a Python program that returns true if the two given integer values are equal or their sum or difference is 5.\n",
    "\n",
    "\n"
   ]
  },
  {
   "cell_type": "code",
   "execution_count": 28,
   "metadata": {},
   "outputs": [],
   "source": [
    "# code here"
   ]
  },
  {
   "cell_type": "markdown",
   "metadata": {},
   "source": [
    "#### Answer"
   ]
  },
  {
   "cell_type": "code",
   "execution_count": 27,
   "metadata": {},
   "outputs": [
    {
     "name": "stdout",
     "output_type": "stream",
     "text": [
      "True\n",
      "True\n",
      "True\n",
      "False\n",
      "False\n"
     ]
    }
   ],
   "source": [
    "# Define a function 'test_number5' that takes two integer inputs: x and y.\n",
    "def test_number5(x, y):\n",
    "    # Check if any of the following conditions are met:\n",
    "    # 1. x is equal to y.\n",
    "    # 2. The absolute difference between x and y is equal to 5.\n",
    "    # 3. The sum of x and y is equal to 5.\n",
    "    if x == y or abs(x - y) == 5 or (x + y) == 5:\n",
    "        # If any of the conditions are met, return True.\n",
    "        return True\n",
    "    else:\n",
    "        # If none of the conditions are met, return False.\n",
    "        return False\n",
    "\n",
    "# Test the 'test_number5' function with different sets of input values and print the results.\n",
    "print(test_number5(7, 2))\n",
    "print(test_number5(3, 2))\n",
    "print(test_number5(2, 2))\n",
    "print(test_number5(7, 3))\n",
    "print(test_number5(27, 53))\n"
   ]
  },
  {
   "cell_type": "markdown",
   "metadata": {},
   "source": [
    "## 23. Write a Python program to add two objects if both objects are integers."
   ]
  },
  {
   "cell_type": "code",
   "execution_count": 29,
   "metadata": {},
   "outputs": [],
   "source": [
    "# code here"
   ]
  },
  {
   "cell_type": "markdown",
   "metadata": {},
   "source": [
    "#### Answer"
   ]
  },
  {
   "cell_type": "code",
   "execution_count": 30,
   "metadata": {},
   "outputs": [
    {
     "name": "stdout",
     "output_type": "stream",
     "text": [
      "30\n",
      "Inputs must be integers!\n",
      "Inputs must be integers!\n",
      "Inputs must be integers!\n"
     ]
    }
   ],
   "source": [
    "# Define a function 'add_numbers' that takes two arguments: a and b.\n",
    "def add_numbers(a, b):\n",
    "    # Check if both 'a' and 'b' are integers using the 'isinstance' function.\n",
    "    if not (isinstance(a, int) and isinstance(b, int)):\n",
    "        # If either 'a' or 'b' is not an integer, return an error message.\n",
    "        return \"Inputs must be integers!\"\n",
    "    # If both 'a' and 'b' are integers, return their sum.\n",
    "    return a + b\n",
    "\n",
    "# Test the 'add_numbers' function with various input values and print the results.\n",
    "print(add_numbers(10, 20))     # Valid: Both inputs are integers, and it returns the sum.\n",
    "print(add_numbers(10, 20.23))  # Invalid: One of the inputs is a float, so it returns an error message.\n",
    "print(add_numbers('5', 6))     # Invalid: One of the inputs is a string, so it returns an error message.\n",
    "print(add_numbers('5', '6'))   # Invalid: Both inputs are strings, so it returns an error message.\n"
   ]
  },
  {
   "cell_type": "markdown",
   "metadata": {},
   "source": [
    "## 24. Write a Python program that displays your name, age, and address on three different lines."
   ]
  },
  {
   "cell_type": "code",
   "execution_count": 31,
   "metadata": {},
   "outputs": [],
   "source": [
    "# code here"
   ]
  },
  {
   "cell_type": "markdown",
   "metadata": {},
   "source": [
    "#### Answer"
   ]
  },
  {
   "cell_type": "code",
   "execution_count": 6,
   "metadata": {},
   "outputs": [
    {
     "name": "stdout",
     "output_type": "stream",
     "text": [
      "Name: Simon\n",
      "Age: 19\n",
      "Address: Bangalore, Karnataka, India\n"
     ]
    }
   ],
   "source": [
    "# Define a function 'personal_details'.\n",
    "def personal_details():\n",
    "    # Define variables 'name' and 'age' and assign values to them.\n",
    "    name, age = \"Simon\", 19\n",
    "    # Define a variable 'address' and assign a value to it.\n",
    "    address = \"Bangalore, Karnataka, India\"\n",
    "    # Print the personal details using string formatting.\n",
    "    print(\"Name: {}\\nAge: {}\\nAddress: {}\".format(name, age, address))\n",
    "\n",
    "# Call the 'personal_details' function to display the details.\n",
    "personal_details()\n"
   ]
  },
  {
   "cell_type": "markdown",
   "metadata": {},
   "source": [
    "## 25. Write a Python program to solve (x + y) * (x + y).\n",
    "\n",
    "Test Data : x = 4, y = 3\n",
    "\n",
    "Expected Output : ((4 + 3) ^ 2) = 49"
   ]
  },
  {
   "cell_type": "code",
   "execution_count": 32,
   "metadata": {},
   "outputs": [],
   "source": [
    "# code here"
   ]
  },
  {
   "cell_type": "markdown",
   "metadata": {},
   "source": [
    "#### Answer"
   ]
  },
  {
   "cell_type": "code",
   "execution_count": 7,
   "metadata": {},
   "outputs": [
    {
     "name": "stdout",
     "output_type": "stream",
     "text": [
      "(4 + 3) ^ 2) = 49\n"
     ]
    }
   ],
   "source": [
    "# Define variables 'x' and 'y' and assign values to them.\n",
    "x, y = 4, 3\n",
    "# Calculate the result by squaring the sum of 'x' and 'y'.\n",
    "result = x * x + 2 * x * y + y * y\n",
    "# Print the result with a formatted message.\n",
    "print(\"({} + {}) ^ 2) = {}\".format(x, y, result))\n"
   ]
  },
  {
   "cell_type": "markdown",
   "metadata": {},
   "source": [
    "## 26. Write a Python program to check whether a file exists."
   ]
  },
  {
   "cell_type": "code",
   "execution_count": 33,
   "metadata": {},
   "outputs": [],
   "source": [
    "# code here"
   ]
  },
  {
   "cell_type": "markdown",
   "metadata": {},
   "source": [
    "#### Answer"
   ]
  },
  {
   "cell_type": "code",
   "execution_count": 8,
   "metadata": {},
   "outputs": [
    {
     "name": "stdout",
     "output_type": "stream",
     "text": [
      "False\n",
      "False\n"
     ]
    }
   ],
   "source": [
    "# Import the os.path module to work with file and directory paths.\n",
    "import os.path\n",
    "\n",
    "# Check if 'main.txt' is a file and print the result.\n",
    "print(os.path.isfile('main.txt'))\n",
    "\n",
    "# Check if 'main.py' is a file and print the result.\n",
    "print(os.path.isfile('main.py'))\n"
   ]
  },
  {
   "cell_type": "markdown",
   "metadata": {},
   "source": [
    "## 27. Write a Python program to calculate the distance between the points (x1, y1) and (x2, y2)."
   ]
  },
  {
   "cell_type": "code",
   "execution_count": null,
   "metadata": {},
   "outputs": [],
   "source": [
    "# code here"
   ]
  },
  {
   "cell_type": "markdown",
   "metadata": {},
   "source": [
    "#### Answer"
   ]
  },
  {
   "cell_type": "code",
   "execution_count": null,
   "metadata": {},
   "outputs": [],
   "source": [
    "# Import the math module to use the square root function.\n",
    "import math\n",
    "\n",
    "# Define the coordinates of the first point (p1) as a list.\n",
    "p1 = [4, 0]\n",
    "\n",
    "# Define the coordinates of the second point (p2) as a list.\n",
    "p2 = [6, 6]\n",
    "\n",
    "# Calculate the distance between the two points using the distance formula.\n",
    "# The formula computes the Euclidean distance in a 2D space.\n",
    "distance = math.sqrt(((p1[0] - p2[0]) ** 2) + ((p1[1] - p2[1]) ** 2))\n",
    "\n",
    "# Print the calculated distance.\n",
    "print(distance)\n"
   ]
  },
  {
   "cell_type": "markdown",
   "metadata": {},
   "source": [
    "## 28. Write a Python program to get OS name, platform and release information."
   ]
  },
  {
   "cell_type": "code",
   "execution_count": 34,
   "metadata": {},
   "outputs": [],
   "source": [
    "# code here"
   ]
  },
  {
   "cell_type": "markdown",
   "metadata": {},
   "source": [
    "#### Answer"
   ]
  },
  {
   "cell_type": "code",
   "execution_count": 71,
   "metadata": {},
   "outputs": [
    {
     "name": "stdout",
     "output_type": "stream",
     "text": [
      "Name of the operating system: posix\n",
      "\n",
      "Name of the OS system: Darwin\n",
      "\n",
      "Version of the operating system: 22.4.0\n"
     ]
    }
   ],
   "source": [
    "# Import the 'platform' and 'os' modules.\n",
    "import platform\n",
    "import os\n",
    "\n",
    "# Print the name of the operating system based on the 'os.name' attribute.\n",
    "# 'os.name' provides the name of the operating system dependent module imported.\n",
    "print(\"Name of the operating system:\", os.name)\n",
    "\n",
    "# Print the name of the OS system using the 'platform.system()' function.\n",
    "# 'platform.system()' returns the name of the operating system, such as 'Windows', 'Linux', or 'Darwin' (macOS).\n",
    "print(\"\\nName of the OS system:\", platform.system())\n",
    "\n",
    "# Print the version of the operating system using the 'platform.release()' function.\n",
    "# 'platform.release()' returns the version or release of the operating system.\n",
    "print(\"\\nVersion of the operating system:\", platform.release())\n"
   ]
  },
  {
   "cell_type": "markdown",
   "metadata": {},
   "source": [
    "## 29. Write a Python program to locate Python site packages."
   ]
  },
  {
   "cell_type": "code",
   "execution_count": 67,
   "metadata": {},
   "outputs": [],
   "source": [
    "# code here"
   ]
  },
  {
   "cell_type": "markdown",
   "metadata": {},
   "source": [
    "#### Answer"
   ]
  },
  {
   "cell_type": "code",
   "execution_count": 2,
   "metadata": {},
   "outputs": [
    {
     "name": "stdout",
     "output_type": "stream",
     "text": [
      "['/Users/macbookair/miniconda3/lib/python3.11/site-packages']\n"
     ]
    }
   ],
   "source": [
    "# Import the 'site' module.\n",
    "import site\n",
    "\n",
    "# Use the 'site.getsitepackages()' function to retrieve site packages' paths.\n",
    "# 'site.getsitepackages()' returns a list of paths where site packages are installed.\n",
    "print(site.getsitepackages())\n"
   ]
  },
  {
   "cell_type": "markdown",
   "metadata": {},
   "source": [
    "## 30. Write a Python program to find out the number of CPUs used."
   ]
  },
  {
   "cell_type": "code",
   "execution_count": 66,
   "metadata": {},
   "outputs": [],
   "source": [
    "# code here"
   ]
  },
  {
   "cell_type": "markdown",
   "metadata": {},
   "source": [
    "#### Answer"
   ]
  },
  {
   "cell_type": "code",
   "execution_count": 3,
   "metadata": {},
   "outputs": [
    {
     "name": "stdout",
     "output_type": "stream",
     "text": [
      "8\n"
     ]
    }
   ],
   "source": [
    "# Import the 'multiprocessing' module to work with multi-processing features.\n",
    "import multiprocessing\n",
    "\n",
    "# Use 'multiprocessing.cpu_count()' to determine the number of available CPU cores.\n",
    "cpu_count = multiprocessing.cpu_count()\n",
    "\n",
    "# Print the number of CPU cores available on the system.\n",
    "print(cpu_count)\n"
   ]
  },
  {
   "cell_type": "markdown",
   "metadata": {},
   "source": [
    "## 31. Write a Python program to get the current username."
   ]
  },
  {
   "cell_type": "code",
   "execution_count": 35,
   "metadata": {},
   "outputs": [],
   "source": [
    "# code here"
   ]
  },
  {
   "cell_type": "markdown",
   "metadata": {},
   "source": [
    "#### Answer"
   ]
  },
  {
   "cell_type": "code",
   "execution_count": 36,
   "metadata": {},
   "outputs": [
    {
     "name": "stdout",
     "output_type": "stream",
     "text": [
      "macbookair\n"
     ]
    }
   ],
   "source": [
    "# Import the 'getpass' module to access user-related functionality, including getting the current username.\n",
    "import getpass\n",
    "\n",
    "# Use the 'getuser()' function from the 'getpass' module to retrieve the current username.\n",
    "# Then, print the username to the console.\n",
    "print(getpass.getuser())\n"
   ]
  },
  {
   "cell_type": "markdown",
   "metadata": {},
   "source": [
    "## 31. Write a Python program to convert height (in feet and inches) to centimeters."
   ]
  },
  {
   "cell_type": "code",
   "execution_count": 65,
   "metadata": {},
   "outputs": [],
   "source": [
    "# code here"
   ]
  },
  {
   "cell_type": "markdown",
   "metadata": {},
   "source": [
    "#### Answer"
   ]
  },
  {
   "cell_type": "code",
   "execution_count": 37,
   "metadata": {},
   "outputs": [
    {
     "name": "stdout",
     "output_type": "stream",
     "text": [
      "Input your height: \n",
      "Your height is : 363 cm.\n"
     ]
    }
   ],
   "source": [
    "# Prompt the user to input their height.\n",
    "print(\"Input your height: \")\n",
    "\n",
    "# Read the feet part of the height and convert it to an integer.\n",
    "h_ft = int(input(\"Feet: \"))\n",
    "\n",
    "# Read the inches part of the height and convert it to an integer.\n",
    "h_inch = int(input(\"Inches: \"))\n",
    "\n",
    "# Convert the height from feet and inches to inches.\n",
    "h_inch += h_ft * 12\n",
    "\n",
    "# Calculate the height in centimeters by multiplying by the conversion factor (2.54).\n",
    "h_cm = round(h_inch * 2.54, 1)\n",
    "\n",
    "# Print the calculated height in centimeters.\n",
    "print(\"Your height is : %d cm.\" % h_cm)\n"
   ]
  },
  {
   "cell_type": "markdown",
   "metadata": {},
   "source": [
    "## 32. Write a Python program to calculate the hypotenuse of a right angled triangle."
   ]
  },
  {
   "cell_type": "code",
   "execution_count": 64,
   "metadata": {},
   "outputs": [],
   "source": [
    "# code here"
   ]
  },
  {
   "cell_type": "markdown",
   "metadata": {},
   "source": [
    "#### Answer"
   ]
  },
  {
   "cell_type": "code",
   "execution_count": 38,
   "metadata": {},
   "outputs": [
    {
     "name": "stdout",
     "output_type": "stream",
     "text": [
      "Input lengths of shorter triangle sides:\n",
      "The length of the hypotenuse is: 15.556349186104045\n"
     ]
    }
   ],
   "source": [
    "# Import the sqrt function from the math module to calculate the square root.\n",
    "from math import sqrt\n",
    "\n",
    "# Prompt the user to input the lengths of the shorter triangle sides.\n",
    "print(\"Input lengths of shorter triangle sides:\")\n",
    "\n",
    "# Read and convert the input for side 'a' to a floating-point number.\n",
    "a = float(input(\"a: \"))\n",
    "\n",
    "# Read and convert the input for side 'b' to a floating-point number.\n",
    "b = float(input(\"b: \"))\n",
    "\n",
    "# Calculate the length of the hypotenuse using the Pythagorean theorem.\n",
    "c = sqrt(a**2 + b**2)\n",
    "\n",
    "# Print the calculated length of the hypotenuse.\n",
    "print(\"The length of the hypotenuse is:\", c)\n"
   ]
  },
  {
   "cell_type": "markdown",
   "metadata": {},
   "source": [
    "## 33. Write a Python program to convert all units of time into seconds."
   ]
  },
  {
   "cell_type": "code",
   "execution_count": 63,
   "metadata": {},
   "outputs": [],
   "source": [
    "# code here"
   ]
  },
  {
   "cell_type": "markdown",
   "metadata": {},
   "source": [
    "#### Answer"
   ]
  },
  {
   "cell_type": "code",
   "execution_count": 7,
   "metadata": {},
   "outputs": [
    {
     "name": "stdout",
     "output_type": "stream",
     "text": [
      "The amount of seconds: 1044121\n"
     ]
    }
   ],
   "source": [
    "# Prompt the user to input a number of days and store it in the variable 'days'.\n",
    "days = int(input(\"Input days: \")) * 3600 * 24\n",
    "# Prompt the user to input a number of hours and store it in the variable 'hours'.\n",
    "hours = int(input(\"Input hours: \")) * 3600\n",
    "# Prompt the user to input a number of minutes and store it in the variable 'minutes'.\n",
    "minutes = int(input(\"Input minutes: \")) * 60\n",
    "# Prompt the user to input a number of seconds and store it in the variable 'seconds'.\n",
    "seconds = int(input(\"Input seconds: \"))\n",
    "# Calculate the total time in seconds by adding the converted values.\n",
    "time = days + hours + minutes + seconds\n",
    "# Print the total time in seconds.\n",
    "print(\"The amount of seconds:\", time)\n"
   ]
  },
  {
   "cell_type": "markdown",
   "metadata": {},
   "source": [
    "## 34. Write a Python program that converts seconds into days, hours, minutes, and seconds."
   ]
  },
  {
   "cell_type": "code",
   "execution_count": 62,
   "metadata": {},
   "outputs": [],
   "source": [
    "# code here"
   ]
  },
  {
   "cell_type": "markdown",
   "metadata": {},
   "source": [
    "#### Answer"
   ]
  },
  {
   "cell_type": "code",
   "execution_count": 8,
   "metadata": {},
   "outputs": [
    {
     "name": "stdout",
     "output_type": "stream",
     "text": [
      "d:h:m:s-> 0:3:5:11\n"
     ]
    }
   ],
   "source": [
    "# Prompt the user to input a time duration in seconds and convert it to a float.\n",
    "time = float(input(\"Input time in seconds: \"))\n",
    "\n",
    "# Calculate the number of full days in the given time duration.\n",
    "day = time // (24 * 3600)\n",
    "# Update the time variable to hold the remaining seconds after subtracting full days.\n",
    "time = time % (24 * 3600)\n",
    "\n",
    "# Calculate the number of full hours in the remaining time.\n",
    "hour = time // 3600\n",
    "# Update the time variable to hold the remaining seconds after subtracting full hours.\n",
    "time %= 3600\n",
    "\n",
    "# Calculate the number of full minutes in the remaining time.\n",
    "minutes = time // 60\n",
    "# Update the time variable to hold the remaining seconds after subtracting full minutes.\n",
    "time %= 60\n",
    "\n",
    "# The 'time' variable now represents the remaining seconds, which is the number of seconds.\n",
    "seconds = time\n",
    "\n",
    "# Print the time duration in the format \"d:h:m:s\".\n",
    "print(\"d:h:m:s-> %d:%d:%d:%d\" % (day, hour, minutes, seconds))\n"
   ]
  },
  {
   "cell_type": "markdown",
   "metadata": {},
   "source": [
    "## 35. Write a Python program to calculate the body mass index."
   ]
  },
  {
   "cell_type": "code",
   "execution_count": 61,
   "metadata": {},
   "outputs": [],
   "source": [
    "# code here"
   ]
  },
  {
   "cell_type": "markdown",
   "metadata": {},
   "source": [
    "#### Answer"
   ]
  },
  {
   "cell_type": "code",
   "execution_count": 9,
   "metadata": {},
   "outputs": [
    {
     "name": "stdout",
     "output_type": "stream",
     "text": [
      "Your body mass index is:  0.05\n"
     ]
    }
   ],
   "source": [
    "# Prompt the user to input their height in feet and convert it to a floating-point number.\n",
    "height = float(input(\"Input your height in Feet: \"))\n",
    "\n",
    "# Prompt the user to input their weight in kilograms and convert it to a floating-point number.\n",
    "weight = float(input(\"Input your weight in Kilograms: \"))\n",
    "\n",
    "# Calculate the body mass index (BMI) using the provided height and weight and round it to 2 decimal places.\n",
    "bmi = weight / (height * height)\n",
    "rounded_bmi = round(bmi, 2)\n",
    "\n",
    "# Print the calculated BMI.\n",
    "print(\"Your body mass index is: \", rounded_bmi)\n"
   ]
  },
  {
   "cell_type": "markdown",
   "metadata": {},
   "source": [
    "## 36. Write a Python program to sort three integers without using conditional statements and loops."
   ]
  },
  {
   "cell_type": "code",
   "execution_count": 60,
   "metadata": {},
   "outputs": [],
   "source": [
    "# code here"
   ]
  },
  {
   "cell_type": "markdown",
   "metadata": {},
   "source": [
    "#### Answer"
   ]
  },
  {
   "cell_type": "code",
   "execution_count": null,
   "metadata": {},
   "outputs": [],
   "source": [
    "# Prompt the user to input three integers and convert them to variables x, y, and z.\n",
    "x = int(input(\"Input first number: \"))\n",
    "y = int(input(\"Input second number: \"))\n",
    "z = int(input(\"Input third number: \"))\n",
    "\n",
    "# Find the minimum value among x, y, and z and store it in variable a1.\n",
    "a1 = min(x, y, z)\n",
    "\n",
    "# Find the maximum value among x, y, and z and store it in variable a3.\n",
    "a3 = max(x, y, z)\n",
    "\n",
    "# Calculate the middle value (not the minimum or maximum) by subtracting a1 and a3 from the sum of x, y, and z.\n",
    "a2 = (x + y + z) - a1 - a3\n",
    "\n",
    "# Print the numbers in sorted order (a1, a2, a3).\n",
    "print(\"Numbers in sorted order: \", a1, a2, a3)\n"
   ]
  },
  {
   "cell_type": "markdown",
   "metadata": {},
   "source": [
    "## 37. Write a Python program to sort files by date."
   ]
  },
  {
   "cell_type": "code",
   "execution_count": 59,
   "metadata": {},
   "outputs": [],
   "source": [
    "# code here"
   ]
  },
  {
   "cell_type": "markdown",
   "metadata": {},
   "source": [
    "#### Answer"
   ]
  },
  {
   "cell_type": "code",
   "execution_count": 11,
   "metadata": {},
   "outputs": [
    {
     "name": "stdout",
     "output_type": "stream",
     "text": [
      "python_tutorial.ipynb\n",
      "python_homework_with_answer.ipynb\n"
     ]
    }
   ],
   "source": [
    "# Import the necessary libraries to work with file operations and globbing.\n",
    "import glob\n",
    "import os\n",
    "\n",
    "# Use the glob module to find all files in the current directory with a \".txt\" extension.\n",
    "files = glob.glob(\"*.ipynb\")\n",
    "\n",
    "# Sort the list of file names based on the modification time (getmtime) of each file.\n",
    "files.sort(key=os.path.getmtime)\n",
    "\n",
    "# Print the sorted list of file names, one per line.\n",
    "print(\"\\n\".join(files))\n"
   ]
  },
  {
   "cell_type": "markdown",
   "metadata": {},
   "source": [
    "## 38. Write a Python program to calculate the midpoints of a line."
   ]
  },
  {
   "cell_type": "code",
   "execution_count": 58,
   "metadata": {},
   "outputs": [],
   "source": [
    "# code here"
   ]
  },
  {
   "cell_type": "markdown",
   "metadata": {},
   "source": [
    "#### Answer"
   ]
  },
  {
   "cell_type": "code",
   "execution_count": 12,
   "metadata": {},
   "outputs": [
    {
     "name": "stdout",
     "output_type": "stream",
     "text": [
      "\n",
      "Calculate the midpoint of a line :\n",
      "\n",
      "The midpoint of the line is :\n",
      "The midpoint's x value is:  4.0\n",
      "The midpoint's y value is:  5.5\n"
     ]
    }
   ],
   "source": [
    "# Print a message to inform the user that the program will calculate the midpoint of a line.\n",
    "print('\\nCalculate the midpoint of a line :')\n",
    "\n",
    "# Prompt the user to enter the x and y coordinates of the first endpoint of the line.\n",
    "x1 = float(input('The value of x (the first endpoint) '))\n",
    "y1 = float(input('The value of y (the first endpoint) '))\n",
    "\n",
    "# Prompt the user to enter the x and y coordinates of the second endpoint of the line.\n",
    "x2 = float(input('The value of x (the first endpoint) '))\n",
    "y2 = float(input('The value of y (the first endpoint) '))\n",
    "\n",
    "# Calculate the x-coordinate of the midpoint of the line.\n",
    "x_m_point = (x1 + x2)/2\n",
    "\n",
    "# Calculate the y-coordinate of the midpoint of the line.\n",
    "y_m_point = (y1 + y2)/2\n",
    "print();\n",
    "\n",
    "# Print a message to indicate that the program is displaying the midpoint.\n",
    "print(\"The midpoint of the line is :\")\n",
    "\n",
    "# Print the x-coordinate of the midpoint.\n",
    "print( \"The midpoint's x value is: \", x_m_point)\n",
    "\n",
    "# Print the y-coordinate of the midpoint.\n",
    "print( \"The midpoint's y value is: \", y_m_point)\n"
   ]
  },
  {
   "cell_type": "markdown",
   "metadata": {},
   "source": [
    "## 39. Write a Python program to hash a word."
   ]
  },
  {
   "cell_type": "code",
   "execution_count": null,
   "metadata": {},
   "outputs": [],
   "source": [
    "# code here"
   ]
  },
  {
   "cell_type": "markdown",
   "metadata": {},
   "source": [
    "#### Answer"
   ]
  },
  {
   "cell_type": "code",
   "execution_count": 13,
   "metadata": {},
   "outputs": [
    {
     "name": "stdout",
     "output_type": "stream",
     "text": [
      "\n",
      "The coded word is: I15102\n",
      "\n"
     ]
    }
   ],
   "source": [
    "# Create a list that maps characters to their Soundex codes.\n",
    "soundex = [0, 1, 2, 3, 0, 1, 2, 0, 0, 2, 2, 4, 5, 5, 0, 1, 2, 6, 2, 3, 0, 1, 0, 2, 0, 2]\n",
    "\n",
    "# Prompt the user to input the word to be hashed.\n",
    "word = input(\"Input the word to be hashed: \")\n",
    "\n",
    "# Convert the input word to uppercase.\n",
    "word = word.upper()\n",
    "\n",
    "# Initialize the coded word with the first character of the input word.\n",
    "coded = word[0]\n",
    "\n",
    "# Iterate over the remaining characters in the word to calculate the Soundex code.\n",
    "for a in word[1:len(word)]:\n",
    "    # Calculate the index for the Soundex list based on the character's ASCII code.\n",
    "    i = 65 - ord(a)\n",
    "    coded = coded + str(soundex[i])\n",
    "\n",
    "# Print a blank line.\n",
    "print()\n",
    "\n",
    "# Display the coded word.\n",
    "print(\"The coded word is: \" + coded)\n",
    "\n",
    "# Print a blank line.\n",
    "print()\n"
   ]
  },
  {
   "cell_type": "markdown",
   "metadata": {},
   "source": [
    "## 40. Write a Python program to calculate the sum of all items of a container (tuple, list, set, dictionary)."
   ]
  },
  {
   "cell_type": "code",
   "execution_count": 57,
   "metadata": {},
   "outputs": [],
   "source": [
    "# code here"
   ]
  },
  {
   "cell_type": "markdown",
   "metadata": {},
   "source": [
    "#### Answer"
   ]
  },
  {
   "cell_type": "code",
   "execution_count": 16,
   "metadata": {},
   "outputs": [
    {
     "name": "stdout",
     "output_type": "stream",
     "text": [
      "\n",
      "Sum of the container:  60\n",
      "\n"
     ]
    }
   ],
   "source": [
    "# Calculate the sum of the elements in the list [10, 20, 30] using the 'sum' function and store it in the variable 's'\n",
    "s = sum([10, 20, 30])\n",
    "\n",
    "# Print a message indicating the sum of the container and display the value of 's'\n",
    "print(\"\\nSum of the container: \", s)\n",
    "\n",
    "# Print an empty line for better readability\n",
    "print()\n"
   ]
  },
  {
   "cell_type": "markdown",
   "metadata": {},
   "source": [
    "## 41. Write a Python program to swap two variables."
   ]
  },
  {
   "cell_type": "code",
   "execution_count": 56,
   "metadata": {},
   "outputs": [],
   "source": [
    "# code here"
   ]
  },
  {
   "cell_type": "markdown",
   "metadata": {},
   "source": [
    "#### Answer"
   ]
  },
  {
   "cell_type": "code",
   "execution_count": 17,
   "metadata": {},
   "outputs": [
    {
     "name": "stdout",
     "output_type": "stream",
     "text": [
      "Initial Value of x = 34\n",
      "Initial Value of y = 56\n",
      "\n",
      "After swaping value of x = 56\n",
      "After swaping value of y = 34\n"
     ]
    }
   ],
   "source": [
    "# Initialize two variables 'x' and 'y' with values 34 and 56, respectively.\n",
    "x = 34\n",
    "y = 56\n",
    "\n",
    "# Print the initial values of 'x' and 'y'.\n",
    "print(\"Initial Value of x =\", x)\n",
    "print(\"Initial Value of y =\", y)\n",
    "\n",
    "# Swap the values of 'x' and 'y' using a temporary variable 'temp'.\n",
    "temp = x\n",
    "x = y\n",
    "y = temp\n",
    "\n",
    "# Print the values of 'x' and 'y' after swapping.\n",
    "print(\"\\nAfter swaping value of x =\", x)\n",
    "print(\"After swaping value of y =\", y)\n"
   ]
  },
  {
   "cell_type": "markdown",
   "metadata": {},
   "source": [
    "## 42. Write a Python program to remove the first item from a specified list."
   ]
  },
  {
   "cell_type": "code",
   "execution_count": 55,
   "metadata": {},
   "outputs": [],
   "source": [
    "# code here"
   ]
  },
  {
   "cell_type": "markdown",
   "metadata": {},
   "source": [
    "#### Answer"
   ]
  },
  {
   "cell_type": "code",
   "execution_count": 18,
   "metadata": {},
   "outputs": [
    {
     "name": "stdout",
     "output_type": "stream",
     "text": [
      "Original list elements:\n",
      "['Red', 'Black', 'Green', 'White', 'Orange']\n",
      "After removing the first color: \n",
      "['Black', 'Green', 'White', 'Orange']\n",
      "\n"
     ]
    }
   ],
   "source": [
    "# Create a list of color names\n",
    "color = [\"Red\", \"Black\", \"Green\", \"White\", \"Orange\"]\n",
    "\n",
    "# Print the original list elements\n",
    "print(\"Original list elements:\")\n",
    "print(color)\n",
    "\n",
    "# Remove the first element (element at index 0) from the list\n",
    "del color[0]\n",
    "# Print the list after removing the first color\n",
    "print(\"After removing the first color: \")\n",
    "print(color)\n",
    "print()\n"
   ]
  },
  {
   "cell_type": "markdown",
   "metadata": {},
   "source": [
    "## 43. Write a Python program to filter positive numbers from a list."
   ]
  },
  {
   "cell_type": "code",
   "execution_count": 54,
   "metadata": {},
   "outputs": [],
   "source": [
    "# code here"
   ]
  },
  {
   "cell_type": "markdown",
   "metadata": {},
   "source": [
    "#### Answer"
   ]
  },
  {
   "cell_type": "code",
   "execution_count": 19,
   "metadata": {},
   "outputs": [
    {
     "name": "stdout",
     "output_type": "stream",
     "text": [
      "Original numbers in the list:  [34, 1, 0, -23, 12, -88]\n",
      "Positive numbers in the said list: \n",
      "34 1 12 "
     ]
    }
   ],
   "source": [
    "# Define a list named \"nums\" containing a series of integers.\n",
    "nums = [34, 1, 0, -23, 12, -88]\n",
    "\n",
    "# Print a message along with the original list of numbers.\n",
    "print(\"Original numbers in the list: \", nums)\n",
    "\n",
    "# Print a message indicating that positive numbers in the list will be listed.\n",
    "print(\"Positive numbers in the said list: \")\n",
    "\n",
    "# Iterate through each number in the \"nums\" list.\n",
    "for pos_nums in nums:\n",
    "    # Check if the number is greater than 0 (positive).\n",
    "    if pos_nums > 0:\n",
    "        # Print positive numbers on the same line with a space separator.\n",
    "        print(pos_nums, end=\" \")\n"
   ]
  },
  {
   "cell_type": "markdown",
   "metadata": {},
   "source": [
    "## 44. Write a Python program to check whether a variable is an integer or string.\n"
   ]
  },
  {
   "cell_type": "code",
   "execution_count": 53,
   "metadata": {},
   "outputs": [],
   "source": [
    "# code here"
   ]
  },
  {
   "cell_type": "markdown",
   "metadata": {},
   "source": [
    "#### Answer"
   ]
  },
  {
   "cell_type": "code",
   "execution_count": 52,
   "metadata": {},
   "outputs": [
    {
     "name": "stdout",
     "output_type": "stream",
     "text": [
      "True\n",
      "False\n",
      "True\n"
     ]
    }
   ],
   "source": [
    "# Check if 25 is an instance of an integer (int) or a string (str).\n",
    "print(isinstance(25, int) or isinstance(25, str))\n",
    "\n",
    "# Check if the list containing 25 is an instance of an integer (int) or a string (str).\n",
    "print(isinstance([25], int) or isinstance([25], str))\n",
    "\n",
    "# Check if the string \"25\" is an instance of an integer (int) or a string (str).\n",
    "print(isinstance(\"25\", int) or isinstance(\"25\", str))\n"
   ]
  },
  {
   "cell_type": "markdown",
   "metadata": {},
   "source": [
    "## 45. Write a Python function to find the maximum and minimum numbers from a sequence of numbers.\n",
    "Note: Do not use built-in functions.\n"
   ]
  },
  {
   "cell_type": "code",
   "execution_count": 51,
   "metadata": {},
   "outputs": [],
   "source": [
    "# code here"
   ]
  },
  {
   "cell_type": "markdown",
   "metadata": {},
   "source": [
    "#### Answer"
   ]
  },
  {
   "cell_type": "code",
   "execution_count": 50,
   "metadata": {},
   "outputs": [
    {
     "name": "stdout",
     "output_type": "stream",
     "text": [
      "(75, -5)\n"
     ]
    }
   ],
   "source": [
    "# Define a function named 'max_min' that takes a list 'data' as its argument.\n",
    "def max_min(data):\n",
    "    # Initialize two variables 'l' and 's' with the first element of the 'data' list.\n",
    "    l = data[0]  # 'l' is used to keep track of the maximum value.\n",
    "    s = data[0]  # 's' is used to keep track of the minimum value.\n",
    "    \n",
    "    # Iterate through each number 'num' in the 'data' list.\n",
    "    for num in data:\n",
    "        # Check if the current number 'num' is greater than the current maximum 'l'.\n",
    "        if num > l:\n",
    "            l = num  # If 'num' is greater, update 'l' with 'num'.\n",
    "        # Check if the current number 'num' is smaller than the current minimum 's'.\n",
    "        elif num < s:\n",
    "            s = num  # If 'num' is smaller, update 's' with 'num'.\n",
    "    \n",
    "    # Return the maximum 'l' and minimum 's' values as a tuple.\n",
    "    return l, s\n",
    "\n",
    "# Call the 'max_min' function with a list of numbers and print the result.\n",
    "print(max_min([0, 10, 15, 40, -5, 42, 17, 28, 75]))\n"
   ]
  },
  {
   "cell_type": "markdown",
   "metadata": {},
   "source": [
    "## 46. Write a Python function that takes a positive integer and returns the sum of the cube of all positive integers smaller than the specified number.\n",
    "\n",
    "Ex.: 8 = 73+63+53+43+33+23+13 = 784"
   ]
  },
  {
   "cell_type": "code",
   "execution_count": 49,
   "metadata": {},
   "outputs": [],
   "source": [
    "# code here"
   ]
  },
  {
   "cell_type": "markdown",
   "metadata": {},
   "source": [
    "#### Answer"
   ]
  },
  {
   "cell_type": "code",
   "execution_count": null,
   "metadata": {},
   "outputs": [],
   "source": [
    "# Define a function named 'sum_of_cubes' that takes an integer 'n' as its argument.\n",
    "def sum_of_cubes(n):\n",
    "    # Decrement 'n' by 1 to exclude 'n' itself from the sum.\n",
    "    n -= 1\n",
    "    # Initialize a variable 'total' to keep track of the sum of cubes.\n",
    "    total = 0\n",
    "    \n",
    "    # Use a 'while' loop to iterate through numbers from 'n-1' down to 1.\n",
    "    while n > 0:\n",
    "        # Calculate the cube of the current number 'n' and add it to 'total'.\n",
    "        total += n * n * n\n",
    "        # Decrement 'n' by 1 for the next iteration.\n",
    "        n -= 1\n",
    "    \n",
    "    # Return the total sum of cubes.\n",
    "    return total\n",
    "\n",
    "# Call the 'sum_of_cubes' function with an argument '3' and print the result.\n",
    "print(\"Sum of cubes smaller than the specified number: \", sum_of_cubes(3))\n"
   ]
  },
  {
   "cell_type": "markdown",
   "metadata": {},
   "source": [
    "## 47. Write a Python program to find and print the common elements between two lists."
   ]
  },
  {
   "cell_type": "code",
   "execution_count": 40,
   "metadata": {},
   "outputs": [],
   "source": [
    "# code here"
   ]
  },
  {
   "cell_type": "markdown",
   "metadata": {},
   "source": [
    "#### Answer"
   ]
  },
  {
   "cell_type": "code",
   "execution_count": 46,
   "metadata": {},
   "outputs": [
    {
     "name": "stdout",
     "output_type": "stream",
     "text": [
      "[3, 4, 5]\n"
     ]
    }
   ],
   "source": [
    "\n",
    "def find_common_elements(list1, list2):\n",
    "    common_elements = [element for element in list1 if element in list2]\n",
    "    return common_elements\n",
    "\n",
    "# Example:\n",
    "list_a = [1, 2, 3, 4, 5]\n",
    "list_b = [3, 4, 5, 6, 7]\n",
    "result = find_common_elements(list_a, list_b)\n",
    "print(result)\n",
    "# Output: [3, 4, 5]\n"
   ]
  },
  {
   "cell_type": "markdown",
   "metadata": {},
   "source": [
    "## 48. Write a Python program to calculate the factorial of a given number using a loop.\n",
    "\n"
   ]
  },
  {
   "cell_type": "code",
   "execution_count": 44,
   "metadata": {},
   "outputs": [],
   "source": [
    "# code here"
   ]
  },
  {
   "cell_type": "markdown",
   "metadata": {},
   "source": [
    "#### Answer"
   ]
  },
  {
   "cell_type": "code",
   "execution_count": 45,
   "metadata": {},
   "outputs": [
    {
     "name": "stdout",
     "output_type": "stream",
     "text": [
      "120\n"
     ]
    }
   ],
   "source": [
    "\n",
    "def factorial(n):\n",
    "    result = 1\n",
    "    for i in range(1, n + 1):\n",
    "        result *= i\n",
    "    return result\n",
    "\n",
    "# Example:\n",
    "number = 5\n",
    "result = factorial(number)\n",
    "print(result)\n",
    "# Output: 120"
   ]
  },
  {
   "cell_type": "markdown",
   "metadata": {},
   "source": [
    "# 49.  Write a Python program that generates a list of prime numbers up to a given limit.\n",
    "\n",
    "\n"
   ]
  },
  {
   "cell_type": "code",
   "execution_count": 47,
   "metadata": {},
   "outputs": [],
   "source": [
    "# code here"
   ]
  },
  {
   "cell_type": "markdown",
   "metadata": {},
   "source": [
    "#### Answer"
   ]
  },
  {
   "cell_type": "code",
   "execution_count": 48,
   "metadata": {},
   "outputs": [
    {
     "name": "stdout",
     "output_type": "stream",
     "text": [
      "[2, 3, 5, 7, 11, 13, 17, 19, 23, 29]\n"
     ]
    }
   ],
   "source": [
    "\n",
    "def generate_prime_numbers(limit):\n",
    "    primes = []\n",
    "    for num in range(2, limit + 1):\n",
    "        is_prime = all(num % i != 0 for i in range(2, int(num**0.5) + 1))\n",
    "        if is_prime:\n",
    "            primes.append(num)\n",
    "    return primes\n",
    "\n",
    "# Example:\n",
    "limit = 30\n",
    "result = generate_prime_numbers(limit)\n",
    "print(result)\n",
    "# Output: [2, 3, 5, 7, 11, 13, 17, 19, 23, 29]"
   ]
  },
  {
   "cell_type": "markdown",
   "metadata": {},
   "source": [
    "## 50. Implement a Python class representing a basic calculator with add, subtract, multiply, and divide methods.\n",
    "\n",
    "\n"
   ]
  },
  {
   "cell_type": "code",
   "execution_count": 43,
   "metadata": {},
   "outputs": [],
   "source": [
    "# code here"
   ]
  },
  {
   "cell_type": "markdown",
   "metadata": {},
   "source": [
    "#### Answer"
   ]
  },
  {
   "cell_type": "code",
   "execution_count": 42,
   "metadata": {},
   "outputs": [
    {
     "name": "stdout",
     "output_type": "stream",
     "text": [
      "15\n",
      "24\n"
     ]
    }
   ],
   "source": [
    "\n",
    "\n",
    "class Calculator:\n",
    "    def add(self, a, b):\n",
    "        return a + b\n",
    "\n",
    "    def subtract(self, a, b):\n",
    "        return a - b\n",
    "\n",
    "    def multiply(self, a, b):\n",
    "        return a * b\n",
    "\n",
    "    def divide(self, a, b):\n",
    "        if b != 0:\n",
    "            return a / b\n",
    "        else:\n",
    "            return \"Cannot divide by zero\"\n",
    "\n",
    "# Example:\n",
    "calc = Calculator()\n",
    "result_add = calc.add(10, 5)\n",
    "result_multiply = calc.multiply(4, 6)\n",
    "print(result_add)         # Output: 15\n",
    "print(result_multiply)    # Output: 24"
   ]
  },
  {
   "cell_type": "code",
   "execution_count": null,
   "metadata": {},
   "outputs": [],
   "source": []
  }
 ],
 "metadata": {
  "kernelspec": {
   "display_name": "base",
   "language": "python",
   "name": "python3"
  },
  "language_info": {
   "codemirror_mode": {
    "name": "ipython",
    "version": 3
   },
   "file_extension": ".py",
   "mimetype": "text/x-python",
   "name": "python",
   "nbconvert_exporter": "python",
   "pygments_lexer": "ipython3",
   "version": "3.11.7"
  }
 },
 "nbformat": 4,
 "nbformat_minor": 2
}
